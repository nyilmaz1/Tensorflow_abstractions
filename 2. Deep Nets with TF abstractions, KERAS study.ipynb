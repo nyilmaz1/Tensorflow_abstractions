{
 "cells": [
  {
   "cell_type": "markdown",
   "metadata": {},
   "source": [
    "To compare various abstractions we'll use a dataset available from SciKit Learn library. The data is comprised of the results of a chemical analysis of wines grown in the same region in Italy by three different cultivators. There are 13 different measurements taken for different constituents found in the three types of wine. We will use various TF abstractions to classify the wine to one of the 3 possible labels"
   ]
  },
  {
   "cell_type": "code",
   "execution_count": 1,
   "metadata": {},
   "outputs": [
    {
     "data": {
      "text/plain": [
       "sklearn.utils.Bunch"
      ]
     },
     "execution_count": 1,
     "metadata": {},
     "output_type": "execute_result"
    }
   ],
   "source": [
    "from sklearn.datasets import load_wine\n",
    "wine_data = load_wine()\n",
    "type(wine_data)"
   ]
  },
  {
   "cell_type": "markdown",
   "metadata": {},
   "source": [
    "sklearn.utils.Bunch object is very similar to a dictionary\n"
   ]
  },
  {
   "cell_type": "code",
   "execution_count": 2,
   "metadata": {},
   "outputs": [
    {
     "data": {
      "text/plain": [
       "dict_keys(['data', 'target', 'target_names', 'DESCR', 'feature_names'])"
      ]
     },
     "execution_count": 2,
     "metadata": {},
     "output_type": "execute_result"
    }
   ],
   "source": [
    "wine_data.keys()"
   ]
  },
  {
   "cell_type": "code",
   "execution_count": 3,
   "metadata": {},
   "outputs": [
    {
     "name": "stdout",
     "output_type": "stream",
     "text": [
      "Wine Data Database\n",
      "====================\n",
      "\n",
      "Notes\n",
      "-----\n",
      "Data Set Characteristics:\n",
      "    :Number of Instances: 178 (50 in each of three classes)\n",
      "    :Number of Attributes: 13 numeric, predictive attributes and the class\n",
      "    :Attribute Information:\n",
      " \t\t- 1) Alcohol\n",
      " \t\t- 2) Malic acid\n",
      " \t\t- 3) Ash\n",
      "\t\t- 4) Alcalinity of ash  \n",
      " \t\t- 5) Magnesium\n",
      "\t\t- 6) Total phenols\n",
      " \t\t- 7) Flavanoids\n",
      " \t\t- 8) Nonflavanoid phenols\n",
      " \t\t- 9) Proanthocyanins\n",
      "\t\t- 10)Color intensity\n",
      " \t\t- 11)Hue\n",
      " \t\t- 12)OD280/OD315 of diluted wines\n",
      " \t\t- 13)Proline\n",
      "        \t- class:\n",
      "                - class_0\n",
      "                - class_1\n",
      "                - class_2\n",
      "\t\t\n",
      "    :Summary Statistics:\n",
      "    \n",
      "    ============================= ==== ===== ======= =====\n",
      "                                   Min   Max   Mean     SD\n",
      "    ============================= ==== ===== ======= =====\n",
      "    Alcohol:                      11.0  14.8    13.0   0.8\n",
      "    Malic Acid:                   0.74  5.80    2.34  1.12\n",
      "    Ash:                          1.36  3.23    2.36  0.27\n",
      "    Alcalinity of Ash:            10.6  30.0    19.5   3.3\n",
      "    Magnesium:                    70.0 162.0    99.7  14.3\n",
      "    Total Phenols:                0.98  3.88    2.29  0.63\n",
      "    Flavanoids:                   0.34  5.08    2.03  1.00\n",
      "    Nonflavanoid Phenols:         0.13  0.66    0.36  0.12\n",
      "    Proanthocyanins:              0.41  3.58    1.59  0.57\n",
      "    Colour Intensity:              1.3  13.0     5.1   2.3\n",
      "    Hue:                          0.48  1.71    0.96  0.23\n",
      "    OD280/OD315 of diluted wines: 1.27  4.00    2.61  0.71\n",
      "    Proline:                       278  1680     746   315\n",
      "    ============================= ==== ===== ======= =====\n",
      "\n",
      "    :Missing Attribute Values: None\n",
      "    :Class Distribution: class_0 (59), class_1 (71), class_2 (48)\n",
      "    :Creator: R.A. Fisher\n",
      "    :Donor: Michael Marshall (MARSHALL%PLU@io.arc.nasa.gov)\n",
      "    :Date: July, 1988\n",
      "\n",
      "This is a copy of UCI ML Wine recognition datasets.\n",
      "https://archive.ics.uci.edu/ml/machine-learning-databases/wine/wine.data\n",
      "\n",
      "The data is the results of a chemical analysis of wines grown in the same\n",
      "region in Italy by three different cultivators. There are thirteen different\n",
      "measurements taken for different constituents found in the three types of\n",
      "wine.\n",
      "\n",
      "Original Owners: \n",
      "\n",
      "Forina, M. et al, PARVUS - \n",
      "An Extendible Package for Data Exploration, Classification and Correlation. \n",
      "Institute of Pharmaceutical and Food Analysis and Technologies,\n",
      "Via Brigata Salerno, 16147 Genoa, Italy.\n",
      "\n",
      "Citation:\n",
      "\n",
      "Lichman, M. (2013). UCI Machine Learning Repository\n",
      "[http://archive.ics.uci.edu/ml]. Irvine, CA: University of California,\n",
      "School of Information and Computer Science. \n",
      "\n",
      "References\n",
      "----------\n",
      "(1) \n",
      "S. Aeberhard, D. Coomans and O. de Vel, \n",
      "Comparison of Classifiers in High Dimensional Settings, \n",
      "Tech. Rep. no. 92-02, (1992), Dept. of Computer Science and Dept. of \n",
      "Mathematics and Statistics, James Cook University of North Queensland. \n",
      "(Also submitted to Technometrics). \n",
      "\n",
      "The data was used with many others for comparing various \n",
      "classifiers. The classes are separable, though only RDA \n",
      "has achieved 100% correct classification. \n",
      "(RDA : 100%, QDA 99.4%, LDA 98.9%, 1NN 96.1% (z-transformed data)) \n",
      "(All results using the leave-one-out technique) \n",
      "\n",
      "(2) \n",
      "S. Aeberhard, D. Coomans and O. de Vel, \n",
      "\"THE CLASSIFICATION PERFORMANCE OF RDA\" \n",
      "Tech. Rep. no. 92-01, (1992), Dept. of Computer Science and Dept. of \n",
      "Mathematics and Statistics, James Cook University of North Queensland. \n",
      "(Also submitted to Journal of Chemometrics). \n",
      "\n"
     ]
    }
   ],
   "source": [
    "print(wine_data.DESCR)"
   ]
  },
  {
   "cell_type": "markdown",
   "metadata": {},
   "source": [
    "We will attempt to do a classification on this data."
   ]
  },
  {
   "cell_type": "code",
   "execution_count": 4,
   "metadata": {},
   "outputs": [],
   "source": [
    "feat_data = wine_data['data']\n",
    "labels = wine_data['target']"
   ]
  },
  {
   "cell_type": "markdown",
   "metadata": {},
   "source": [
    "# 1. Train Test Split\n",
    "Because this dataset is small, we'll just do a simple 70/30 train test split and we won't have any holdout data set. "
   ]
  },
  {
   "cell_type": "code",
   "execution_count": 5,
   "metadata": {},
   "outputs": [],
   "source": [
    "from sklearn.model_selection import train_test_split"
   ]
  },
  {
   "cell_type": "code",
   "execution_count": 6,
   "metadata": {},
   "outputs": [],
   "source": [
    "X_train, X_test, y_train, y_test = train_test_split(feat_data, labels, test_size=0.3, random_state=101)"
   ]
  },
  {
   "cell_type": "markdown",
   "metadata": {},
   "source": [
    "# 2. Scale the Data"
   ]
  },
  {
   "cell_type": "code",
   "execution_count": 7,
   "metadata": {},
   "outputs": [],
   "source": [
    "from sklearn.preprocessing import MinMaxScaler\n",
    "scaler = MinMaxScaler()"
   ]
  },
  {
   "cell_type": "markdown",
   "metadata": {},
   "source": [
    "Keep in mind we only fit the scaler to the training data, we don't want to assume we'll have knowledge of future test data. We just transform the test set, not fit."
   ]
  },
  {
   "cell_type": "code",
   "execution_count": 8,
   "metadata": {},
   "outputs": [],
   "source": [
    "scaled_x_train = scaler.fit_transform(X_train)\n",
    "scaled_x_test = scaler.transform(X_test)"
   ]
  },
  {
   "cell_type": "markdown",
   "metadata": {},
   "source": [
    "# 3. Abstractions: KERAS:"
   ]
  },
  {
   "cell_type": "code",
   "execution_count": 9,
   "metadata": {},
   "outputs": [
    {
     "name": "stderr",
     "output_type": "stream",
     "text": [
      "/Users/nevinyilmaz/anaconda3/lib/python3.6/site-packages/h5py/__init__.py:36: FutureWarning: Conversion of the second argument of issubdtype from `float` to `np.floating` is deprecated. In future, it will be treated as `np.float64 == np.dtype(float).type`.\n",
      "  from ._conv import register_converters as _register_converters\n"
     ]
    }
   ],
   "source": [
    "import tensorflow as tf\n",
    "from tensorflow.contrib.keras import models"
   ]
  },
  {
   "cell_type": "markdown",
   "metadata": {},
   "source": [
    "### 3.1: Create the model:"
   ]
  },
  {
   "cell_type": "code",
   "execution_count": 10,
   "metadata": {},
   "outputs": [],
   "source": [
    "dnn_keras_model = models.Sequential()\n",
    "#Sequential: Linear stack of layers.\n",
    "#it's called sequential because you basically have a sequence of layers. "
   ]
  },
  {
   "cell_type": "markdown",
   "metadata": {},
   "source": [
    "### 3.2 Add Layers to the model:"
   ]
  },
  {
   "cell_type": "code",
   "execution_count": 11,
   "metadata": {},
   "outputs": [],
   "source": [
    "from tensorflow.contrib.keras import layers"
   ]
  },
  {
   "cell_type": "code",
   "execution_count": 12,
   "metadata": {},
   "outputs": [],
   "source": [
    "#LAYER 1: INPUT\n",
    "dnn_keras_model.add(layers.Dense(units=13, input_dim=13, activation='relu'))\n",
    "#Just your regular densely-connected NN layer.\n",
    "#after the first layer, you don't need to specif the size of the input anymore\n",
    "\n",
    "#LAYER 2:\n",
    "dnn_keras_model.add(layers.Dense(units=13, activation='relu'))\n",
    "\n",
    "#LAYER 3:\n",
    "dnn_keras_model.add(layers.Dense(units=13, activation='relu'))\n",
    "\n",
    "#LAYER 4: OUTPUT\n",
    "dnn_keras_model.add(layers.Dense(units=3, activation='softmax'))\n"
   ]
  },
  {
   "cell_type": "markdown",
   "metadata": {},
   "source": [
    "### 3.3: Compile the model (make it ready for training):\n",
    "Compile sets up all the layers as they should be for the training"
   ]
  },
  {
   "cell_type": "code",
   "execution_count": 14,
   "metadata": {},
   "outputs": [],
   "source": [
    "from tensorflow.contrib.keras import losses, optimizers, metrics, activations"
   ]
  },
  {
   "cell_type": "code",
   "execution_count": 15,
   "metadata": {},
   "outputs": [],
   "source": [
    "#losses.  : we can see that there are lots of loss functions, including mean squared error, binary crossentropy, categorical crossentropy etc.\n",
    "#activations.  : all of the available activations\n"
   ]
  },
  {
   "cell_type": "code",
   "execution_count": 16,
   "metadata": {},
   "outputs": [
    {
     "data": {
      "text/plain": [
       "<function tensorflow.python.keras._impl.keras.losses.sparse_categorical_crossentropy>"
      ]
     },
     "execution_count": 16,
     "metadata": {},
     "output_type": "execute_result"
    }
   ],
   "source": [
    "losses.sparse_categorical_crossentropy"
   ]
  },
  {
   "cell_type": "code",
   "execution_count": 17,
   "metadata": {},
   "outputs": [],
   "source": [
    "dnn_keras_model.compile(optimizer='adam', loss='sparse_categorical_crossentropy', metrics=['accuracy'])\n",
    "#loss='sparse_categorical_crossentropy': if your data is not one-hot encoded coming in we use this for Keras to understand\n",
    "# if your data is already one-hot encoded then you can just use categorical crossentropy"
   ]
  },
  {
   "cell_type": "markdown",
   "metadata": {},
   "source": [
    "### 3.4: Train the model:"
   ]
  },
  {
   "cell_type": "code",
   "execution_count": 18,
   "metadata": {},
   "outputs": [
    {
     "name": "stdout",
     "output_type": "stream",
     "text": [
      "Epoch 1/50\n",
      "124/124 [==============================]124/124 [==============================] - 0s 2ms/step - loss: 1.0998 - acc: 0.3548\n",
      "\n",
      "Epoch 2/50\n",
      "124/124 [==============================]124/124 [==============================] - 0s 373us/step - loss: 1.0857 - acc: 0.3952\n",
      "\n",
      "Epoch 3/50\n",
      "124/124 [==============================]124/124 [==============================] - 0s 212us/step - loss: 1.0725 - acc: 0.4274\n",
      "\n",
      "Epoch 4/50\n",
      "124/124 [==============================]124/124 [==============================] - 0s 136us/step - loss: 1.0594 - acc: 0.4597\n",
      "\n",
      "Epoch 5/50\n",
      "124/124 [==============================]124/124 [==============================] - 0s 95us/step - loss: 1.0463 - acc: 0.5323\n",
      "\n",
      "Epoch 6/50\n",
      "124/124 [==============================]124/124 [==============================] - 0s 173us/step - loss: 1.0333 - acc: 0.5484\n",
      "\n",
      "Epoch 7/50\n",
      "124/124 [==============================]124/124 [==============================] - 0s 134us/step - loss: 1.0189 - acc: 0.5887\n",
      "\n",
      "Epoch 8/50\n",
      "124/124 [==============================]124/124 [==============================] - 0s 100us/step - loss: 1.0059 - acc: 0.6048\n",
      "\n",
      "Epoch 9/50\n",
      "124/124 [==============================]124/124 [==============================] - 0s 101us/step - loss: 0.9935 - acc: 0.6290\n",
      "\n",
      "Epoch 10/50\n",
      "124/124 [==============================]124/124 [==============================] - 0s 142us/step - loss: 0.9800 - acc: 0.6371\n",
      "\n",
      "Epoch 11/50\n",
      "124/124 [==============================]124/124 [==============================] - 0s 89us/step - loss: 0.9667 - acc: 0.6452\n",
      "\n",
      "Epoch 12/50\n",
      "124/124 [==============================]124/124 [==============================] - 0s 439us/step - loss: 0.9525 - acc: 0.6613\n",
      "\n",
      "Epoch 13/50\n",
      "124/124 [==============================]124/124 [==============================] - 0s 180us/step - loss: 0.9377 - acc: 0.6613\n",
      "\n",
      "Epoch 14/50\n",
      "124/124 [==============================]124/124 [==============================] - 0s 138us/step - loss: 0.9210 - acc: 0.6694\n",
      "\n",
      "Epoch 15/50\n",
      "124/124 [==============================]124/124 [==============================] - 0s 90us/step - loss: 0.9025 - acc: 0.6774\n",
      "\n",
      "Epoch 16/50\n",
      "124/124 [==============================]124/124 [==============================] - 0s 80us/step - loss: 0.8827 - acc: 0.6694\n",
      "\n",
      "Epoch 17/50\n",
      "124/124 [==============================]124/124 [==============================] - 0s 95us/step - loss: 0.8618 - acc: 0.6694\n",
      "\n",
      "Epoch 18/50\n",
      "124/124 [==============================]124/124 [==============================] - 0s 88us/step - loss: 0.8410 - acc: 0.6855\n",
      "\n",
      "Epoch 19/50\n",
      "124/124 [==============================]124/124 [==============================] - 0s 89us/step - loss: 0.8182 - acc: 0.7500\n",
      "\n",
      "Epoch 20/50\n",
      "124/124 [==============================]124/124 [==============================] - 0s 75us/step - loss: 0.7952 - acc: 0.7661\n",
      "\n",
      "Epoch 21/50\n",
      "124/124 [==============================]124/124 [==============================] - 0s 105us/step - loss: 0.7701 - acc: 0.8226\n",
      "\n",
      "Epoch 22/50\n",
      "124/124 [==============================]124/124 [==============================] - 0s 86us/step - loss: 0.7455 - acc: 0.8468\n",
      "\n",
      "Epoch 23/50\n",
      "124/124 [==============================]124/124 [==============================] - 0s 102us/step - loss: 0.7199 - acc: 0.8790\n",
      "\n",
      "Epoch 24/50\n",
      "124/124 [==============================]124/124 [==============================] - 0s 207us/step - loss: 0.6926 - acc: 0.9194\n",
      "\n",
      "Epoch 25/50\n",
      "124/124 [==============================]124/124 [==============================] - 0s 112us/step - loss: 0.6662 - acc: 0.9274\n",
      "\n",
      "Epoch 26/50\n",
      "124/124 [==============================]124/124 [==============================] - 0s 69us/step - loss: 0.6390 - acc: 0.9355\n",
      "\n",
      "Epoch 27/50\n",
      "124/124 [==============================]124/124 [==============================] - 0s 73us/step - loss: 0.6114 - acc: 0.9516\n",
      "\n",
      "Epoch 28/50\n",
      "124/124 [==============================]124/124 [==============================] - 0s 71us/step - loss: 0.5828 - acc: 0.9597\n",
      "\n",
      "Epoch 29/50\n",
      "124/124 [==============================]124/124 [==============================] - 0s 88us/step - loss: 0.5553 - acc: 0.9516\n",
      "\n",
      "Epoch 30/50\n",
      "124/124 [==============================]124/124 [==============================] - 0s 95us/step - loss: 0.5285 - acc: 0.9516\n",
      "\n",
      "Epoch 31/50\n",
      "124/124 [==============================]124/124 [==============================] - 0s 87us/step - loss: 0.5004 - acc: 0.9516\n",
      "\n",
      "Epoch 32/50\n",
      "124/124 [==============================]124/124 [==============================] - 0s 90us/step - loss: 0.4733 - acc: 0.9597\n",
      "\n",
      "Epoch 33/50\n",
      "124/124 [==============================]124/124 [==============================] - 0s 85us/step - loss: 0.4470 - acc: 0.9677\n",
      "\n",
      "Epoch 34/50\n",
      "124/124 [==============================]124/124 [==============================] - 0s 89us/step - loss: 0.4212 - acc: 0.9677\n",
      "\n",
      "Epoch 35/50\n",
      "124/124 [==============================]124/124 [==============================] - 0s 94us/step - loss: 0.3967 - acc: 0.9677\n",
      "\n",
      "Epoch 36/50\n",
      "124/124 [==============================]124/124 [==============================] - 0s 98us/step - loss: 0.3724 - acc: 0.9758\n",
      "\n",
      "Epoch 37/50\n",
      "124/124 [==============================]124/124 [==============================] - 0s 92us/step - loss: 0.3506 - acc: 0.9839\n",
      "\n",
      "Epoch 38/50\n",
      "124/124 [==============================]124/124 [==============================] - 0s 89us/step - loss: 0.3285 - acc: 0.9839\n",
      "\n",
      "Epoch 39/50\n",
      "124/124 [==============================]124/124 [==============================] - 0s 81us/step - loss: 0.3086 - acc: 0.9839\n",
      "\n",
      "Epoch 40/50\n",
      "124/124 [==============================]124/124 [==============================] - 0s 231us/step - loss: 0.2895 - acc: 0.9839\n",
      "\n",
      "Epoch 41/50\n",
      "124/124 [==============================]124/124 [==============================] - 0s 142us/step - loss: 0.2745 - acc: 0.9839\n",
      "\n",
      "Epoch 42/50\n",
      "124/124 [==============================]124/124 [==============================] - 0s 85us/step - loss: 0.2569 - acc: 0.9839\n",
      "\n",
      "Epoch 43/50\n",
      "124/124 [==============================]124/124 [==============================] - 0s 92us/step - loss: 0.2419 - acc: 0.9839\n",
      "\n",
      "Epoch 44/50\n",
      "124/124 [==============================]124/124 [==============================] - 0s 87us/step - loss: 0.2278 - acc: 0.9839\n",
      "\n",
      "Epoch 45/50\n",
      "124/124 [==============================]124/124 [==============================] - 0s 109us/step - loss: 0.2153 - acc: 0.9839\n",
      "\n",
      "Epoch 46/50\n",
      "124/124 [==============================]124/124 [==============================] - 0s 91us/step - loss: 0.2044 - acc: 0.9839\n",
      "\n",
      "Epoch 47/50\n",
      "124/124 [==============================]124/124 [==============================] - 0s 95us/step - loss: 0.1930 - acc: 0.9839\n",
      "\n",
      "Epoch 48/50\n",
      "124/124 [==============================]124/124 [==============================] - 0s 79us/step - loss: 0.1833 - acc: 0.9839\n",
      "\n",
      "Epoch 49/50\n",
      "124/124 [==============================]124/124 [==============================] - 0s 105us/step - loss: 0.1735 - acc: 0.9758\n",
      "\n",
      "Epoch 50/50\n",
      "124/124 [==============================]124/124 [==============================] - 0s 81us/step - loss: 0.1644 - acc: 0.9839\n",
      "\n"
     ]
    },
    {
     "data": {
      "text/plain": [
       "<tensorflow.python.keras._impl.keras.callbacks.History at 0x1c25d74d30>"
      ]
     },
     "execution_count": 18,
     "metadata": {},
     "output_type": "execute_result"
    }
   ],
   "source": [
    "dnn_keras_model.fit(scaled_x_train, y_train, epochs=50)"
   ]
  },
  {
   "cell_type": "markdown",
   "metadata": {},
   "source": [
    "### 3.5 Predictions:"
   ]
  },
  {
   "cell_type": "code",
   "execution_count": 31,
   "metadata": {},
   "outputs": [],
   "source": [
    "predictions = dnn_keras_model.predict_classes(scaled_x_test)\n",
    "#...model.predict gives the softmax output: between 0 and 1\n",
    "#...model.predict_classes gives the actual classes we want: 0,1,2"
   ]
  },
  {
   "cell_type": "code",
   "execution_count": 32,
   "metadata": {},
   "outputs": [],
   "source": [
    "from sklearn.metrics import confusion_matrix, classification_report"
   ]
  },
  {
   "cell_type": "code",
   "execution_count": 33,
   "metadata": {},
   "outputs": [
    {
     "name": "stdout",
     "output_type": "stream",
     "text": [
      "             precision    recall  f1-score   support\n",
      "\n",
      "          0       0.95      0.95      0.95        19\n",
      "          1       0.86      0.95      0.90        20\n",
      "          2       1.00      0.87      0.93        15\n",
      "\n",
      "avg / total       0.93      0.93      0.93        54\n",
      "\n"
     ]
    }
   ],
   "source": [
    "print(classification_report(predictions, y_test))"
   ]
  },
  {
   "cell_type": "code",
   "execution_count": 34,
   "metadata": {},
   "outputs": [
    {
     "data": {
      "text/plain": [
       "array([0, 0, 2, 0, 2, 1, 2, 0, 1, 1, 0, 1, 0, 0, 0, 0, 1, 2, 1, 1, 1, 2,\n",
       "       2, 2, 0, 0, 1, 1, 2, 1, 2, 2, 1, 0, 1, 0, 0, 2, 1, 2, 1, 0, 0, 0,\n",
       "       2, 1, 1, 2, 2, 1, 0, 1, 1, 0])"
      ]
     },
     "execution_count": 34,
     "metadata": {},
     "output_type": "execute_result"
    }
   ],
   "source": [
    "predictions"
   ]
  },
  {
   "cell_type": "code",
   "execution_count": null,
   "metadata": {},
   "outputs": [],
   "source": []
  }
 ],
 "metadata": {
  "kernelspec": {
   "display_name": "Python 3",
   "language": "python",
   "name": "python3"
  },
  "language_info": {
   "codemirror_mode": {
    "name": "ipython",
    "version": 3
   },
   "file_extension": ".py",
   "mimetype": "text/x-python",
   "name": "python",
   "nbconvert_exporter": "python",
   "pygments_lexer": "ipython3",
   "version": "3.6.0"
  },
  "varInspector": {
   "cols": {
    "lenName": 16,
    "lenType": 16,
    "lenVar": 40
   },
   "kernels_config": {
    "python": {
     "delete_cmd_postfix": "",
     "delete_cmd_prefix": "del ",
     "library": "var_list.py",
     "varRefreshCmd": "print(var_dic_list())"
    },
    "r": {
     "delete_cmd_postfix": ") ",
     "delete_cmd_prefix": "rm(",
     "library": "var_list.r",
     "varRefreshCmd": "cat(var_dic_list()) "
    }
   },
   "position": {
    "height": "428px",
    "left": "559px",
    "right": "20px",
    "top": "119px",
    "width": "582px"
   },
   "types_to_exclude": [
    "module",
    "function",
    "builtin_function_or_method",
    "instance",
    "_Feature"
   ],
   "window_display": false
  }
 },
 "nbformat": 4,
 "nbformat_minor": 2
}
